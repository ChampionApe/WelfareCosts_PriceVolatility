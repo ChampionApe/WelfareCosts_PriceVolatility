{
 "cells": [
  {
   "cell_type": "markdown",
   "metadata": {},
   "source": [
    "# Welfare Costs of Short-Run Price Volatility"
   ]
  },
  {
   "cell_type": "code",
   "execution_count": 1,
   "metadata": {},
   "outputs": [],
   "source": [
    "import os\n",
    "import numpy as np\n",
    "from scipy import stats\n",
    "import WCPV\n",
    "import pandas as pd\n",
    "import matplotlib as mpl\n",
    "import matplotlib.pyplot as plt\n",
    "import ipywidgets as widgets\n",
    "from ipywidgets import interact, interact_manual\n",
    "%matplotlib inline\n",
    "plt.style.use('seaborn-whitegrid')\n",
    "mpl.style.use('seaborn')\n",
    "prop_cycle = plt.rcParams[\"axes.prop_cycle\"]\n",
    "colors = prop_cycle.by_key()[\"color\"]"
   ]
  },
  {
   "cell_type": "code",
   "execution_count": 2,
   "metadata": {},
   "outputs": [],
   "source": [
    "test = WCPV.Logit() # Initialize\n",
    "test.sample() # Add sample\n",
    "test.solve_npv() # solve without price volatility"
   ]
  },
  {
   "cell_type": "code",
   "execution_count": null,
   "metadata": {},
   "outputs": [],
   "source": [
    "test.solve_w_fp()"
   ]
  },
  {
   "cell_type": "markdown",
   "metadata": {},
   "source": [
    "## **1: Setup**"
   ]
  },
  {
   "cell_type": "markdown",
   "metadata": {},
   "source": [
    "We consider the incredibly simple static maximization problem:\n",
    "\n",
    "$$\\begin{align}\n",
    "    U &= \\max_{C,E} C^{\\alpha}E^{1-\\alpha}, \\\\ \n",
    "    \\text{s.t. }I&= C+pE, \n",
    "\\end{align}$$\n",
    "with the standard simple solution\n",
    "$$\\begin{align}\n",
    "    C &= \\alpha I \\\\ \n",
    "    E &= (1-\\alpha)\\dfrac{I}{p}\n",
    "\\end{align}$$"
   ]
  },
  {
   "cell_type": "markdown",
   "metadata": {},
   "source": [
    "Consider instead the case where $E$ is split into a number of hours $h\\in\\lbrace 1,...,H\\rbrace$ with hourly prices $p_h$. Augment the utility function to accomodate bliss point preferences / price volatility aversion. As outlined in the paper this implies the form\n",
    "$$\\begin{align}\n",
    "    U = \\max_{C,E} C^{\\alpha}E^{1-\\alpha}+u^{hour}(E_1,...,E_H)+u^{h,scale}(E),\n",
    "\\end{align}$$\n",
    "with $E=\\sum_h E_h$ and $p = \\sum_h p_hE_h/E$."
   ]
  },
  {
   "cell_type": "markdown",
   "metadata": {},
   "source": [
    "The first order conditions are now on the form:\n",
    "$$\\begin{align}\n",
    "\\lambda &= \\alpha \\left(\\dfrac{C}{E}\\right)^{\\alpha-1} \\tag{1}\\\\\n",
    "p_h \\lambda &= (1-\\alpha)\\left(\\dfrac{C}{E}\\right)^{\\alpha}+\\dfrac{\\partial u^{hour}}{\\partial E_h}+\\dfrac{\\partial u^{h,scale}}{\\partial E} \\tag{2}\n",
    "\\end{align}$$"
   ]
  },
  {
   "cell_type": "markdown",
   "metadata": {},
   "source": [
    "Combination of (2) for hours $h,j$ implies\n",
    "$$\\begin{align}\n",
    "    \\dfrac{\\partial u^{hour}}{\\partial E_h} - \\dfrac{\\partial u^{hour}}{\\partial E_j} = \\lambda(p_h-p_j). \\tag{3}\n",
    "\\end{align}$$"
   ]
  },
  {
   "cell_type": "markdown",
   "metadata": {},
   "source": [
    "## **2: Logit example**"
   ]
  },
  {
   "cell_type": "markdown",
   "metadata": {},
   "source": [
    "The logit-like example applies the functional forms (notation from paper adopted):\n",
    "\n",
    "$$\\begin{align}\n",
    "    u_h &=  \\dfrac{1}{\\sigma}\\ln\\left(\\tilde{u}_h\\right) \\\\\n",
    "    \\tilde{u}_h&= \\exp\\left(\\sigma\\lambda(p_h-p_t)\\right) \\\\\n",
    "    \\chi_h(\\tilde{u}_h) &= \\underline{D}+\\dfrac{(1-\\underline{D})(\\overline{D}-\\underline{D})}{1-\\underline{D}+(\\overline{D}-1)\\tilde{u}_h}\n",
    "\\end{align}$$"
   ]
  },
  {
   "cell_type": "markdown",
   "metadata": {},
   "source": [
    "Using the interpretation of the bliss point as $E_t^*$ (the level in absence of price volatility), the implied utility function becomes (notation in the paper):\n",
    "\n",
    "$$\\begin{align}\n",
    "    u_h^{hour} = \\dfrac{1}{\\sigma}\\left[E_h\\ln\\left(\\dfrac{1-\\underline{D}}{\\overline{D}-1}\\right)-(E_h-\\underline{E}_h)\\ln\\left(E_h-\\underline{E}_h\\right)-\\left(\\overline{E}_h-E_h\\right)\\ln\\left(\\overline{E}_h-E_h\\right)\\right]\n",
    "\\end{align}$$"
   ]
  },
  {
   "cell_type": "markdown",
   "metadata": {},
   "source": [
    "### **2.1: Parameter values**"
   ]
  }
 ],
 "metadata": {
  "kernelspec": {
   "display_name": "Python 3",
   "language": "python",
   "name": "python3"
  },
  "language_info": {
   "codemirror_mode": {
    "name": "ipython",
    "version": 3
   },
   "file_extension": ".py",
   "mimetype": "text/x-python",
   "name": "python",
   "nbconvert_exporter": "python",
   "pygments_lexer": "ipython3",
   "version": "3.7.4"
  }
 },
 "nbformat": 4,
 "nbformat_minor": 4
}
