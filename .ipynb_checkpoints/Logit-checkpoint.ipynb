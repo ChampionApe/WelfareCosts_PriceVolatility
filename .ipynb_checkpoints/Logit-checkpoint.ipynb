{
 "cells": [
  {
   "cell_type": "markdown",
   "metadata": {},
   "source": [
    "# Welfare Costs of Short-Run Price Volatility"
   ]
  },
  {
   "cell_type": "code",
   "execution_count": 1,
   "metadata": {},
   "outputs": [],
   "source": [
    "import os\n",
    "import time\n",
    "import numpy as np\n",
    "from scipy import stats\n",
    "from scipy import optimize\n",
    "import WCPV\n",
    "import pandas as pd\n",
    "import matplotlib as mpl\n",
    "import matplotlib.pyplot as plt\n",
    "import ipywidgets as widgets\n",
    "from ipywidgets import interact, interact_manual\n",
    "%matplotlib inline\n",
    "plt.style.use('seaborn-whitegrid')\n",
    "mpl.style.use('seaborn')\n",
    "prop_cycle = plt.rcParams[\"axes.prop_cycle\"]\n",
    "colors = prop_cycle.by_key()[\"color\"]"
   ]
  },
  {
   "cell_type": "code",
   "execution_count": null,
   "metadata": {},
   "outputs": [],
   "source": [
    "%%time\n",
    "test = WCPV.Logit() # Initialize\n",
    "test.sample() # Add sample\n",
    "test.solve_npv() # solve without price volatility\n",
    "test.solve_fp() # solve w. flexible prices"
   ]
  },
  {
   "cell_type": "markdown",
   "metadata": {},
   "source": [
    "Price variation:"
   ]
  },
  {
   "cell_type": "code",
   "execution_count": null,
   "metadata": {},
   "outputs": [],
   "source": [
    "pd.Series(test.ph).sort_values().reset_index(drop=True).plot();"
   ]
  },
  {
   "cell_type": "markdown",
   "metadata": {},
   "source": [
    "Variation in consumption:"
   ]
  },
  {
   "cell_type": "code",
   "execution_count": 7,
   "metadata": {},
   "outputs": [
    {
     "data": {
      "image/png": "[encoded data removed]",
      "text/plain": [
       "<Figure size 576x396 with 1 Axes>"
      ]
     },
     "metadata": {},
     "output_type": "display_data"
    }
   ],
   "source": [
    "pd.DataFrame({'$E_h$, constant prices': pd.Series(test.npv['Eh']).sort_values().reset_index(drop=True),\n",
    "              '$E_h$, flexible prices': pd.Series(test.fp['Eh']).sort_values().reset_index(drop=True)}).plot();"
   ]
  },
  {
   "cell_type": "markdown",
   "metadata": {},
   "source": [
    "## **1: Setup**"
   ]
  },
  {
   "cell_type": "markdown",
   "metadata": {},
   "source": [
    "We consider the incredibly simple static maximization problem:\n",
    "\n",
    "$$\\begin{align}\n",
    "    U &= \\max_{C,E} C^{\\alpha}E^{1-\\alpha}, \\\\ \n",
    "    \\text{s.t. }I&= C+pE, \n",
    "\\end{align}$$\n",
    "with the standard simple solution\n",
    "$$\\begin{align}\n",
    "    C &= \\alpha I \\\\ \n",
    "    E &= (1-\\alpha)\\dfrac{I}{p}\n",
    "\\end{align}$$"
   ]
  },
  {
   "cell_type": "markdown",
   "metadata": {},
   "source": [
    "Consider instead the case where $E$ is split into a number of hours $h\\in\\lbrace 1,...,H\\rbrace$ with hourly prices $p_h$. Augment the utility function to accomodate bliss point preferences / price volatility aversion. As outlined in the paper this implies the form\n",
    "$$\\begin{align}\n",
    "    U = \\max_{C,E} C^{\\alpha}E^{1-\\alpha}+u^{hour}(E_1,...,E_H)+u^{h,scale}(E),\n",
    "\\end{align}$$\n",
    "with $E=\\sum_h E_h$ and $p = \\sum_h p_hE_h/E$."
   ]
  },
  {
   "cell_type": "markdown",
   "metadata": {},
   "source": [
    "The first order conditions are now on the form:\n",
    "$$\\begin{align}\n",
    "\\lambda &= \\alpha \\left(\\dfrac{C}{E}\\right)^{\\alpha-1} \\tag{1}\\\\\n",
    "p_h \\lambda &= (1-\\alpha)\\left(\\dfrac{C}{E}\\right)^{\\alpha}+\\dfrac{\\partial u^{hour}}{\\partial E_h}+\\dfrac{\\partial u^{h,scale}}{\\partial E} \\tag{2}\n",
    "\\end{align}$$"
   ]
  },
  {
   "cell_type": "markdown",
   "metadata": {},
   "source": [
    "Combination of (2) for hours $h,j$ implies\n",
    "$$\\begin{align}\n",
    "    \\dfrac{\\partial u^{hour}}{\\partial E_h} - \\dfrac{\\partial u^{hour}}{\\partial E_j} = \\lambda(p_h-p_j). \\tag{3}\n",
    "\\end{align}$$"
   ]
  },
  {
   "cell_type": "markdown",
   "metadata": {},
   "source": [
    "## **2: Logit example**"
   ]
  },
  {
   "cell_type": "markdown",
   "metadata": {},
   "source": [
    "The logit-like example applies the functional forms (notation from paper adopted):\n",
    "\n",
    "$$\\begin{align}\n",
    "    u_h &=  \\dfrac{1}{\\sigma}\\ln\\left(\\tilde{u}_h\\right) \\\\\n",
    "    \\tilde{u}_h&= \\exp\\left(\\sigma\\lambda(p_h-p_t)\\right) \\\\\n",
    "    \\chi_h(\\tilde{u}_h) &= \\underline{D}+\\dfrac{(1-\\underline{D})(\\overline{D}-\\underline{D})}{1-\\underline{D}+(\\overline{D}-1)\\tilde{u}_h}\n",
    "\\end{align}$$"
   ]
  },
  {
   "cell_type": "markdown",
   "metadata": {},
   "source": [
    "Using the interpretation of the bliss point as $E_t^*$ (the level in absence of price volatility), the implied utility function becomes (notation in the paper):\n",
    "\n",
    "$$\\begin{align}\n",
    "    u_h^{hour} = \\dfrac{1}{\\sigma}\\left[E_h\\ln\\left(\\dfrac{1-\\underline{D}}{\\overline{D}-1}\\right)-(E_h-\\underline{E}_h)\\ln\\left(E_h-\\underline{E}_h\\right)-\\left(\\overline{E}_h-E_h\\right)\\ln\\left(\\overline{E}_h-E_h\\right)\\right]\n",
    "\\end{align}$$"
   ]
  },
  {
   "cell_type": "markdown",
   "metadata": {},
   "source": [
    "## **3: Multinomial Logit Example**"
   ]
  },
  {
   "cell_type": "markdown",
   "metadata": {},
   "source": [
    "## **Appendix A: Drawing samples**"
   ]
  },
  {
   "cell_type": "markdown",
   "metadata": {},
   "source": [
    "Samples are drawn as follows:\n",
    "* Define settings:\n",
    "    * $n$: Sample length,\n",
    "    * $var_g$: Variance of sample $g_h$,\n",
    "    * $loc$: average price level, \n",
    "    * $var_p$: Variance of sample $p_h$,\n",
    "    * $corr$: correlation between $(g_h,p_h)$ samples.\n",
    "* Draw sample of $g_h$ from truncated normal on $(0.5,2)$ with variance $var_g$. Normalize to ensure $\\sum g_h=1$. Compute variance in normalized version and denote $\\sigma_g^2$.\n",
    "* Generate $p_h$ from\n",
    "    $$\\begin{align}\n",
    "    p_h = \\mu + \\beta g_h+\\epsilon_h, \n",
    "    \\end{align}$$\n",
    "    with parameters\n",
    "    $$\\begin{align}\n",
    "       \\beta =& corr \\dfrac{\\sqrt{var_p}}{\\sigma_g} \\\\\n",
    "       \\mu =& loc-\\beta/n \\\\ \n",
    "       \\epsilon_h\\sim& \\mathscr{N}(0,\\sigma_{\\epsilon}), && \\sigma_{\\epsilon} = \\sqrt{var_p-\\beta^2\\sigma_g^2}\n",
    "    \\end{align}$$\n",
    "* *NB: An optional setting is to pass a 'seed' to the draw functions, to fix the pseudo-random sample. In the class Logit a seed is set automatically. Setting a seed can be avoided by (1) not parsing an argument 'seed' in the draw functions, and (2) using the class Logit by updating parameter 'self.seed' to None.*"
   ]
  },
  {
   "cell_type": "markdown",
   "metadata": {},
   "source": [
    "## **Appendix B: Exacerbating volatility with fixed weighted levels**"
   ]
  },
  {
   "cell_type": "markdown",
   "metadata": {},
   "source": [
    "To evaluate how volatility affects demand and welfare, we take an existing sample of prices and increase volatility. Note: The change in volatility keeps (1) expected price $\\sum p_hg_h$ constant, (2) the correlation between $g_h,p_h$ constant. Only increases volatility."
   ]
  },
  {
   "cell_type": "code",
   "execution_count": 2,
   "metadata": {},
   "outputs": [],
   "source": [
    "test = WCPV.Logit() # Initialize\n",
    "test.sample() # Add sample"
   ]
  },
  {
   "cell_type": "markdown",
   "metadata": {},
   "source": [
    "Create a matrix of samples with varying volatility (first sample is in column 1, etc.):"
   ]
  },
  {
   "cell_type": "code",
   "execution_count": 21,
   "metadata": {},
   "outputs": [],
   "source": [
    "test.perturbed_samples(np.linspace(1,1000,200))"
   ]
  },
  {
   "cell_type": "markdown",
   "metadata": {},
   "source": [
    "Plot them against each other (sorted) to see the effect:"
   ]
  },
  {
   "cell_type": "code",
   "execution_count": 22,
   "metadata": {},
   "outputs": [
    {
     "data": {
      "image/png": "[encoded data removed]",
      "text/plain": [
       "<Figure size 576x396 with 1 Axes>"
      ]
     },
     "metadata": {},
     "output_type": "display_data"
    }
   ],
   "source": [
    "pd.DataFrame({'Low $\\sigma_p$': pd.Series(test.samples['ph'][:,10]).sort_values().reset_index(drop=True),\n",
    "              'Medium $\\sigma_p$': pd.Series(test.samples['ph'][:,100]).sort_values().reset_index(drop=True),\n",
    "              'High $\\sigma_p$': pd.Series(test.samples['ph'][:,-1]).sort_values().reset_index(drop=True)}).plot();"
   ]
  },
  {
   "cell_type": "markdown",
   "metadata": {},
   "source": [
    "Check correlation coefficients, average prices etc. for the three samples:"
   ]
  },
  {
   "cell_type": "code",
   "execution_count": 28,
   "metadata": {},
   "outputs": [
    {
     "data": {
      "text/html": [
       "<div>\n",
       "<style scoped>\n",
       "    .dataframe tbody tr th:only-of-type {\n",
       "        vertical-align: middle;\n",
       "    }\n",
       "\n",
       "    .dataframe tbody tr th {\n",
       "        vertical-align: top;\n",
       "    }\n",
       "\n",
       "    .dataframe thead th {\n",
       "        text-align: right;\n",
       "    }\n",
       "</style>\n",
       "<table border=\"1\" class=\"dataframe\">\n",
       "  <thead>\n",
       "    <tr style=\"text-align: right;\">\n",
       "      <th></th>\n",
       "      <th>$\\sigma_p^2$</th>\n",
       "      <th>Average P</th>\n",
       "      <th>Correlation with $g_h$</th>\n",
       "    </tr>\n",
       "  </thead>\n",
       "  <tbody>\n",
       "    <tr>\n",
       "      <th>0</th>\n",
       "      <td>51.848273</td>\n",
       "      <td>200.02642</td>\n",
       "      <td>0.09968</td>\n",
       "    </tr>\n",
       "    <tr>\n",
       "      <th>1</th>\n",
       "      <td>509.368951</td>\n",
       "      <td>200.02642</td>\n",
       "      <td>0.09968</td>\n",
       "    </tr>\n",
       "    <tr>\n",
       "      <th>2</th>\n",
       "      <td>1012.641697</td>\n",
       "      <td>200.02642</td>\n",
       "      <td>0.09968</td>\n",
       "    </tr>\n",
       "  </tbody>\n",
       "</table>\n",
       "</div>"
      ],
      "text/plain": [
       "   $\\sigma_p^2$  Average P  Correlation with $g_h$\n",
       "0     51.848273  200.02642                 0.09968\n",
       "1    509.368951  200.02642                 0.09968\n",
       "2   1012.641697  200.02642                 0.09968"
      ]
     },
     "execution_count": 28,
     "metadata": {},
     "output_type": "execute_result"
    }
   ],
   "source": [
    "pd.DataFrame({'$\\sigma_p^2$': [np.var(test.samples['ph'][:,10]),np.var(test.samples['ph'][:,100]),np.var(test.samples['ph'][:,-1])],\n",
    "              'Average P': [sum(test.samples['ph'][:,10]*test.gh), sum(test.samples['ph'][:,100]*test.gh),sum(test.samples['ph'][:,-1]*test.gh)],\n",
    "              'Correlation with $g_h$': [np.corrcoef(test.samples['ph'][:,10],test.gh)[1,0], np.corrcoef(test.samples['ph'][:,100],test.gh)[1,0], np.corrcoef(test.samples['ph'][:,-1],test.gh)[1,0]]})"
   ]
  }
 ],
 "metadata": {
  "kernelspec": {
   "display_name": "Python 3",
   "language": "python",
   "name": "python3"
  },
  "language_info": {
   "codemirror_mode": {
    "name": "ipython",
    "version": 3
   },
   "file_extension": ".py",
   "mimetype": "text/x-python",
   "name": "python",
   "nbconvert_exporter": "python",
   "pygments_lexer": "ipython3",
   "version": "3.7.4"
  }
 },
 "nbformat": 4,
 "nbformat_minor": 4
}
