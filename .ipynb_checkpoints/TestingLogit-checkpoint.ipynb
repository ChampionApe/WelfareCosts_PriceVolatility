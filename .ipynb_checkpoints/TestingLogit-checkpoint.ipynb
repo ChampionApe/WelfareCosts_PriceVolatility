{
 "cells": [
  {
   "cell_type": "markdown",
   "metadata": {},
   "source": [
    "# Welfare Costs of Short-Run Price Volatility"
   ]
  },
  {
   "cell_type": "code",
   "execution_count": 17,
   "metadata": {},
   "outputs": [],
   "source": [
    "import os\n",
    "import numpy as np\n",
    "from scipy import stats\n",
    "import pandas as pd\n",
    "import math\n",
    "import matplotlib as mpl\n",
    "import matplotlib.pyplot as plt\n",
    "import ipywidgets as widgets\n",
    "from ipywidgets import interact, interact_manual\n",
    "%matplotlib inline\n",
    "plt.style.use('seaborn-whitegrid')\n",
    "mpl.style.use('seaborn')\n",
    "prop_cycle = plt.rcParams[\"axes.prop_cycle\"]\n",
    "colors = prop_cycle.by_key()[\"color\"]"
   ]
  },
  {
   "cell_type": "markdown",
   "metadata": {},
   "source": [
    "## **1: Setup**"
   ]
  },
  {
   "cell_type": "markdown",
   "metadata": {},
   "source": [
    "We consider the incredibly simple static maximization problem:\n",
    "\n",
    "$$\\begin{align}\n",
    "    U &= \\max_{C,E} C^{\\alpha}E^{1-\\alpha}, \\\\ \n",
    "    \\text{s.t. }I&= C+pE, \n",
    "\\end{align}$$\n",
    "with the standard simple solution\n",
    "$$\\begin{align}\n",
    "    C &= \\alpha I \\\\ \n",
    "    E &= (1-\\alpha)\\dfrac{I}{p}\n",
    "\\end{align}$$"
   ]
  },
  {
   "cell_type": "markdown",
   "metadata": {},
   "source": [
    "Consider instead the case where $E$ is split into a number of hours $h\\in\\lbrace 1,...,H\\rbrace$ with hourly prices $p_h$. Augment the utility function to accomodate bliss point preferences / price volatility aversion. As outlined in the paper this implies the form\n",
    "$$\\begin{align}\n",
    "    U = \\max_{C,E} C^{\\alpha}E^{1-\\alpha}+u^{hour}(E_1,...,E_H)+u^{h,scale}(E),\n",
    "\\end{align}$$\n",
    "with $E=\\sum_h E_h$ and $p = \\sum_h p_hE_h/E$."
   ]
  },
  {
   "cell_type": "markdown",
   "metadata": {},
   "source": [
    "The first order conditions are now on the form:\n",
    "$$\\begin{align}\n",
    "\\lambda &= \\alpha \\left(\\dfrac{C}{E}\\right)^{\\alpha-1} \\tag{1}\\\\\n",
    "p_h \\lambda &= (1-\\alpha)\\left(\\dfrac{C}{E}\\right)^{\\alpha}+\\dfrac{\\partial u^{hour}}{\\partial E_h}+\\dfrac{\\partial u^{h,scale}}{\\partial E} \\tag{2}\n",
    "\\end{align}$$"
   ]
  },
  {
   "cell_type": "markdown",
   "metadata": {},
   "source": [
    "Combination of (2) for hours $h,j$ implies\n",
    "$$\\begin{align}\n",
    "    \\dfrac{\\partial u^{hour}}{\\partial E_h} - \\dfrac{\\partial u^{hour}}{\\partial E_j} = \\lambda(p_h-p_j). \\tag{3}\n",
    "\\end{align}$$"
   ]
  },
  {
   "cell_type": "markdown",
   "metadata": {},
   "source": [
    "## **2: Logit example**"
   ]
  },
  {
   "cell_type": "markdown",
   "metadata": {},
   "source": [
    "The logit-like example applies the functional forms (notation from paper adopted):\n",
    "\n",
    "$$\\begin{align}\n",
    "    u_h &=  \\dfrac{1}{\\sigma}\\ln\\left(\\tilde{u}_h\\right) \\\\\n",
    "    \\tilde{u}_h&= \\exp\\left(\\sigma\\lambda(p_h-p_t)\\right) \\\\\n",
    "    \\chi_h(\\tilde{u}_h) &= \\underline{D}+\\dfrac{(1-\\underline{D})(\\overline{D}-\\underline{D})}{1-\\underline{D}+(\\overline{D}-1)\\tilde{u}_h}\n",
    "\\end{align}$$"
   ]
  },
  {
   "cell_type": "markdown",
   "metadata": {},
   "source": [
    "Using the interpretation of the bliss point as $E_t^*$ (the level in absence of price volatility), the implied utility function becomes (notation in the paper):\n",
    "\n",
    "$$\\begin{align}\n",
    "    u_h^{hour} = \\dfrac{1}{\\sigma}\\left[E_h\\ln\\left(\\dfrac{1-\\underline{D}}{\\overline{D}-1}\\right)-(E_h-\\underline{E}_h)\\ln\\left(E_h-\\underline{E}_h\\right)-\\left(\\overline{E}_h-E_h\\right)\\ln\\left(\\overline{E}_h-E_h\\right)\\right]\n",
    "\\end{align}$$"
   ]
  },
  {
   "cell_type": "markdown",
   "metadata": {},
   "source": [
    "### **2.1: Parameter values**"
   ]
  },
  {
   "cell_type": "markdown",
   "metadata": {},
   "source": [
    "Set parameter values"
   ]
  },
  {
   "cell_type": "code",
   "execution_count": 3,
   "metadata": {},
   "outputs": [],
   "source": [
    "par = {'I': 100,\n",
    "       'alpha': 0.5,\n",
    "       'eps': 0.00001} # Added small value for numerical stability"
   ]
  },
  {
   "cell_type": "markdown",
   "metadata": {},
   "source": [
    "Add random sample of prices (here random normal draws) and habit shares $g_h\\in(0,1)$ (normalized truncated normal draws):"
   ]
  },
  {
   "cell_type": "code",
   "execution_count": 25,
   "metadata": {},
   "outputs": [
    {
     "data": {
      "text/plain": [
       "7.3238795540792615e-09"
      ]
     },
     "execution_count": 25,
     "metadata": {},
     "output_type": "execute_result"
    }
   ],
   "source": [
    "np.var(par['gh'])"
   ]
  },
  {
   "cell_type": "code",
   "execution_count": 13,
   "metadata": {},
   "outputs": [
    {
     "data": {
      "text/plain": [
       "array([1.84513965e-04, 2.94051929e-05, 1.65670066e-04, ...,\n",
       "       1.91401811e-04, 1.24090995e-04, 1.15029137e-04])"
      ]
     },
     "execution_count": 13,
     "metadata": {},
     "output_type": "execute_result"
    }
   ],
   "source": [
    "par['gh']"
   ]
  },
  {
   "cell_type": "code",
   "execution_count": 4,
   "metadata": {},
   "outputs": [],
   "source": [
    "par['ph'] = np.random.normal(100,20,8760)\n",
    "rs_g = stats.truncnorm.rvs(0,100,size=8760)\n",
    "par['gh'] = rs_g/sum(rs_g)"
   ]
  },
  {
   "cell_type": "markdown",
   "metadata": {},
   "source": [
    "Logit parameters:"
   ]
  },
  {
   "cell_type": "code",
   "execution_count": 4,
   "metadata": {},
   "outputs": [],
   "source": [
    "par['Upper']= 2\n",
    "par['Lower']= 0\n",
    "par['sigma']= 10"
   ]
  },
  {
   "cell_type": "markdown",
   "metadata": {},
   "source": [
    "Add functional forms:"
   ]
  },
  {
   "cell_type": "code",
   "execution_count": 5,
   "metadata": {},
   "outputs": [],
   "source": [
    "par['chi_h'] = lambda x: par['Lower']+((1-par['Lower'])*(par['Upper']-par['Lower']))/(1-par['Lower']+(par['Upper']-1)*x)\n",
    "par['utilde_h'] = lambda lambda_,ph,pt: np.exp(par['sigma']*lambda_*(ph-pt))"
   ]
  },
  {
   "cell_type": "markdown",
   "metadata": {},
   "source": [
    "*NB: We can easily verify that the $\\chi_h$ function exhibits a fixed-point around 1*"
   ]
  },
  {
   "cell_type": "code",
   "execution_count": 6,
   "metadata": {},
   "outputs": [
    {
     "data": {
      "text/plain": [
       "1.0"
      ]
     },
     "execution_count": 6,
     "metadata": {},
     "output_type": "execute_result"
    }
   ],
   "source": [
    "par['chi_h'](1)"
   ]
  },
  {
   "cell_type": "markdown",
   "metadata": {},
   "source": [
    "### **2.2: Solution without flexible demand**"
   ]
  },
  {
   "cell_type": "markdown",
   "metadata": {},
   "source": [
    "We compute $p^*,E^*,C^*,\\lambda^*$ under assumption of no price volatility:"
   ]
  },
  {
   "cell_type": "code",
   "execution_count": 7,
   "metadata": {},
   "outputs": [],
   "source": [
    "sol = {}\n",
    "sol['pstar'] = sum(par['gh']*par['ph'])\n",
    "sol['Estar'] = (1-par['alpha'])*par['I']/sol['pstar']\n",
    "sol['Cstar'] = par['alpha']*par['I']\n",
    "sol['lambda_star'] = par['alpha']*(sol['Cstar']/sol['Estar'])**(par['alpha']-1)\n",
    "sol['Ehstar'] = par['gh']*sol['Estar']\n",
    "sol['Ehlower'] = par['gh']*par['Lower']*sol['Estar']-par['eps']\n",
    "sol['Ehupper'] = par['gh']*par['Upper']*sol['Estar']+par['eps']"
   ]
  },
  {
   "cell_type": "markdown",
   "metadata": {},
   "source": [
    "Scale of disutility from $u^{hour}$ term in absence of price variation:"
   ]
  },
  {
   "cell_type": "code",
   "execution_count": 8,
   "metadata": {},
   "outputs": [],
   "source": [
    "sol['uhour_star'] = (1/par['sigma'])*sum(sol['Ehstar']*np.log((1-par['Lower'])/(par['Upper']-1))-(sol['Ehstar']-sol['Ehlower'])*np.log(sol['Ehstar']-sol['Ehlower'])-(sol['Ehupper']-sol['Ehstar'])*np.log(sol['Ehupper']-sol['Ehstar']))"
   ]
  },
  {
   "cell_type": "markdown",
   "metadata": {},
   "source": [
    "### **2.3: Solution with flexible demand**"
   ]
  },
  {
   "cell_type": "markdown",
   "metadata": {},
   "source": [
    "Logit shares (as a function of lambda):"
   ]
  },
  {
   "cell_type": "code",
   "execution_count": 9,
   "metadata": {},
   "outputs": [],
   "source": [
    "sol['sh_f'] = lambda lambda_: par['gh'] * par['chi_h'](par['utilde_h'](lambda_,par['ph'],sol['pstar']))\n",
    "sol['Eh_f'] = lambda lambda_: sol['sh_f'](lambda_)*sol['Estar']"
   ]
  },
  {
   "cell_type": "markdown",
   "metadata": {},
   "source": [
    "Compare endogeonus and exogenous shares (with $\\lambda$ fixed at value without price volatility)"
   ]
  },
  {
   "cell_type": "code",
   "execution_count": 10,
   "metadata": {},
   "outputs": [
    {
     "data": {
      "image/png": "[encoded data removed]",
      "text/plain": [
       "<Figure size 432x288 with 1 Axes>"
      ]
     },
     "metadata": {
      "needs_background": "light"
     },
     "output_type": "display_data"
    }
   ],
   "source": [
    "pd.DataFrame({'Endogenous shares': pd.Series(sol['sh_f'](sol['lambda_star'])).sort_values().reset_index(drop=True),\n",
    "              'Exogenous shares': pd.Series(par['gh']).sort_values().reset_index(drop=True)}).plot();"
   ]
  },
  {
   "cell_type": "markdown",
   "metadata": {},
   "source": [
    "Utility as a function of $\\lambda$:"
   ]
  },
  {
   "cell_type": "code",
   "execution_count": 11,
   "metadata": {},
   "outputs": [],
   "source": [
    "sol['uhour_function'] = lambda lambda_: (1/par['sigma'])*sum(sol['Eh_f'](lambda_)*np.log((1-par['Lower'])/(par['Upper']-1))-(sol['Eh_f'](lambda_)-sol['Ehlower'])*np.log(sol['Eh_f'](lambda_)-sol['Ehlower'])-(sol['Ehupper']-sol['Eh_f'](lambda_))*np.log(sol['Ehupper']-sol['Eh_f'](lambda_)))"
   ]
  },
  {
   "cell_type": "markdown",
   "metadata": {},
   "source": [
    "Value in the case of $\\lambda^*$ (as a benchmark):"
   ]
  },
  {
   "cell_type": "code",
   "execution_count": 12,
   "metadata": {},
   "outputs": [],
   "source": [
    "data = pd.DataFrame({'Upper bound': sol['Ehupper'],\n",
    "              'Actual E': sol['Eh_f'](sol['lambda_star'])})\n",
    "data['diff'] = data['Upper bound']-data['Actual E']"
   ]
  },
  {
   "cell_type": "markdown",
   "metadata": {},
   "source": [
    "Utility as a function of $\\lambda$, including the normalization around zero:"
   ]
  },
  {
   "cell_type": "code",
   "execution_count": 13,
   "metadata": {},
   "outputs": [],
   "source": [
    "sol['uhour_sum'] = lambda lambda_: sol['uhour_function'](lambda_)-sol['uhour_star']"
   ]
  },
  {
   "cell_type": "markdown",
   "metadata": {},
   "source": [
    "### **2.4: Illustrating the cost function**"
   ]
  },
  {
   "cell_type": "markdown",
   "metadata": {},
   "source": [
    "**1: Plot the utility as a function of $\\lambda$**"
   ]
  },
  {
   "cell_type": "code",
   "execution_count": 14,
   "metadata": {},
   "outputs": [],
   "source": [
    "lambdagrid = np.linspace(0,1,100)"
   ]
  },
  {
   "cell_type": "code",
   "execution_count": 15,
   "metadata": {},
   "outputs": [
    {
     "data": {
      "image/png": "[encoded data removed]",
      "text/plain": [
       "<Figure size 432x288 with 1 Axes>"
      ]
     },
     "metadata": {
      "needs_background": "light"
     },
     "output_type": "display_data"
    }
   ],
   "source": [
    "sol['uhour_lambdagrid'] = np.array([sol['uhour_sum'](i) for i in lambdagrid])\n",
    "plt.plot(sol['uhour_lambdagrid']);"
   ]
  },
  {
   "cell_type": "markdown",
   "metadata": {},
   "source": [
    "With $\\lambda$ being the shadow-value of income, however, we can check that the *total* effect on welfare is always positive (otherwise the household simply wouldn't react)"
   ]
  },
  {
   "cell_type": "code",
   "execution_count": 16,
   "metadata": {},
   "outputs": [],
   "source": [
    "# What's the income the household saves from adjusting to price fluctuations:\n",
    "sol['shares_lambdagrid'] = np.array([sum(sol['sh_f'](i)*par['ph'])-sol['pstar']*sol['Estar'] for i in lambdagrid])\n",
    "# What's the effect on utility:\n",
    "sol['uincome_lambdagrid'] = sol['shares_lambdagrid']*lambdagrid"
   ]
  },
  {
   "cell_type": "markdown",
   "metadata": {},
   "source": [
    "**2: Compare welfare with and without flexible demand**"
   ]
  },
  {
   "cell_type": "markdown",
   "metadata": {},
   "source": [
    "Without flexible prices:"
   ]
  },
  {
   "cell_type": "code",
   "execution_count": 20,
   "metadata": {},
   "outputs": [
    {
     "data": {
      "text/plain": [
       "5.004835319766224"
      ]
     },
     "execution_count": 20,
     "metadata": {},
     "output_type": "execute_result"
    }
   ],
   "source": [
    "sol['Cstar']**(par['alpha'])*sol['Estar']**(1-par['alpha'])"
   ]
  },
  {
   "cell_type": "markdown",
   "metadata": {},
   "source": [
    "Assume $\\lambda=\\lambda^*$. The utility in this case:"
   ]
  },
  {
   "cell_type": "code",
   "execution_count": 36,
   "metadata": {},
   "outputs": [],
   "source": [
    "E_year_lambdastar = sum(sol['Eh_f'](sol['lambda_star']))\n",
    "C_year_lambdastar = par['I']-sum(sol['Eh_f'](sol['lambda_star'])*par['ph'])"
   ]
  },
  {
   "cell_type": "code",
   "execution_count": 39,
   "metadata": {},
   "outputs": [
    {
     "data": {
      "text/plain": [
       "5.341557116754611"
      ]
     },
     "execution_count": 39,
     "metadata": {},
     "output_type": "execute_result"
    }
   ],
   "source": [
    "C_year_lambdastar**(par['alpha'])*E_year_lambdastar**(1-par['alpha'])+sol['uhour_sum'](sol['lambda_star'])"
   ]
  }
 ],
 "metadata": {
  "kernelspec": {
   "display_name": "Python 3",
   "language": "python",
   "name": "python3"
  },
  "language_info": {
   "codemirror_mode": {
    "name": "ipython",
    "version": 3
   },
   "file_extension": ".py",
   "mimetype": "text/x-python",
   "name": "python",
   "nbconvert_exporter": "python",
   "pygments_lexer": "ipython3",
   "version": "3.7.4"
  }
 },
 "nbformat": 4,
 "nbformat_minor": 4
}
